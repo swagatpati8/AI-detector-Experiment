{
  "nbformat": 4,
  "nbformat_minor": 0,
  "metadata": {
    "colab": {
      "provenance": []
    },
    "kernelspec": {
      "name": "python3",
      "display_name": "Python 3"
    },
    "language_info": {
      "name": "python"
    }
  },
  "cells": [
    {
      "cell_type": "code",
      "execution_count": 5,
      "metadata": {
        "id": "ZPA6boveyCtT",
        "colab": {
          "base_uri": "https://localhost:8080/"
        },
        "outputId": "9481e5fd-b83e-468a-b2de-510379d55f6f"
      },
      "outputs": [
        {
          "output_type": "stream",
          "name": "stdout",
          "text": [
            "True P-Hacked Algorithm Evaluation (Word 'the')\n",
            "Training Data: t-stat=1.4904, p-value=0.1647\n",
            "Test Data: t-stat=0.5382, p-value=0.6172\n",
            "\n",
            "Confusion Matrix on Training Data: {'TP': np.int64(4), 'TN': np.int64(2), 'FP': np.int64(6), 'FN': np.int64(4)}\n",
            "Confusion Matrix on Test Data: {'TP': np.int64(2), 'TN': np.int64(2), 'FP': np.int64(2), 'FN': np.int64(2)}\n"
          ]
        }
      ],
      "source": [
        "import pandas as pd\n",
        "import numpy as np\n",
        "from scipy.stats import ttest_ind\n",
        "\n",
        "# Load Data\n",
        "train_df = pd.read_csv('Training_data.csv')\n",
        "test_df = pd.read_csv('Test_data.csv')\n",
        "\n",
        "# P-Hacked Heuristic: Counts occurrences of the word 'the'\n",
        "def count_the(text):\n",
        "    return text.lower().split().count('the')\n",
        "\n",
        "# Apply heuristic to both datasets\n",
        "train_df['The_Score'] = train_df['Document'].apply(count_the)\n",
        "test_df['The_Score'] = test_df['Document'].apply(count_the)\n",
        "\n",
        "# Function to Extract Scores for Human and AI\n",
        "def get_scores(df, score_column):\n",
        "    human_scores = df[df['Human OR AI'] == 'Human'][score_column]\n",
        "    ai_scores = df[df['Human OR AI'] == 'AI'][score_column]\n",
        "    return human_scores, ai_scores\n",
        "\n",
        "# Extract scores\n",
        "train_human, train_ai = get_scores(train_df, 'The_Score')\n",
        "test_human, test_ai = get_scores(test_df, 'The_Score')\n",
        "\n",
        "# Statistical Significance Tests (t-test)\n",
        "train_t_stat, train_p_value = ttest_ind(train_human, train_ai, equal_var=False)\n",
        "test_t_stat, test_p_value = ttest_ind(test_human, test_ai, equal_var=False)\n",
        "\n",
        "# Display t-test Results\n",
        "print(\"True P-Hacked Algorithm Evaluation (Word 'the')\")\n",
        "print(f\"Training Data: t-stat={train_t_stat:.4f}, p-value={train_p_value:.4f}\")\n",
        "print(f\"Test Data: t-stat={test_t_stat:.4f}, p-value={test_p_value:.4f}\")\n",
        "\n",
        "# Confusion Matrix Calculation Function\n",
        "def build_confusion_matrix(df, score_column, threshold):\n",
        "    df['Predicted AI'] = df[score_column] > threshold\n",
        "    tp = np.sum((df['Predicted AI'] == True) & (df['Human OR AI'] == 'AI'))\n",
        "    tn = np.sum((df['Predicted AI'] == False) & (df['Human OR AI'] == 'Human'))\n",
        "    fp = np.sum((df['Predicted AI'] == True) & (df['Human OR AI'] == 'Human'))\n",
        "    fn = np.sum((df['Predicted AI'] == False) & (df['Human OR AI'] == 'AI'))\n",
        "    return {'TP': tp, 'TN': tn, 'FP': fp, 'FN': fn}\n",
        "\n",
        "# Determine Threshold: Midpoint Between Human and AI Means\n",
        "threshold = (train_human.mean() + train_ai.mean()) / 2\n",
        "\n",
        "# Build and Display Confusion Matrices\n",
        "train_conf_matrix = build_confusion_matrix(train_df, 'The_Score', threshold)\n",
        "test_conf_matrix = build_confusion_matrix(test_df, 'The_Score', threshold)\n",
        "\n",
        "print(\"\\nConfusion Matrix on Training Data:\", train_conf_matrix)\n",
        "print(\"Confusion Matrix on Test Data:\", test_conf_matrix)\n"
      ]
    }
  ]
}